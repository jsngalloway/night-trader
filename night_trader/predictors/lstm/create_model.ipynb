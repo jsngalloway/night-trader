{
 "metadata": {
  "language_info": {
   "codemirror_mode": {
    "name": "ipython",
    "version": 3
   },
   "file_extension": ".py",
   "mimetype": "text/x-python",
   "name": "python",
   "nbconvert_exporter": "python",
   "pygments_lexer": "ipython3",
   "version": "3.8.5-final"
  },
  "orig_nbformat": 2,
  "kernelspec": {
   "name": "python38564bitlstmconda6b98f4bb35a74cfa9a4dc9d000731948",
   "display_name": "Python 3.8.5 64-bit ('lstm': conda)",
   "language": "python"
  }
 },
 "nbformat": 4,
 "nbformat_minor": 2,
 "cells": [
  {
   "cell_type": "code",
   "execution_count": 17,
   "metadata": {},
   "outputs": [],
   "source": [
    "from lstm_creator import createLstmModelFromDatasets, scaleData, preprocessData\n",
    "from predict_next_value import predict_next, load_x_from_file\n",
    "\n",
    "import matplotlib.pyplot as plt\n",
    "%matplotlib inline"
   ]
  },
  {
   "cell_type": "code",
   "execution_count": 18,
   "metadata": {},
   "outputs": [
    {
     "output_type": "stream",
     "name": "stdout",
     "text": [
      "Epoch 1/6\n",
      "30/30 [==============================] - 4s 40ms/step - loss: 0.1395\n",
      "Epoch 2/6\n",
      "30/30 [==============================] - 1s 39ms/step - loss: 0.0115\n",
      "Epoch 3/6\n",
      "30/30 [==============================] - 1s 38ms/step - loss: 0.0074\n",
      "Epoch 4/6\n",
      "30/30 [==============================] - 1s 39ms/step - loss: 0.0075\n",
      "Epoch 5/6\n",
      "30/30 [==============================] - 1s 39ms/step - loss: 0.0074\n",
      "Epoch 6/6\n",
      "30/30 [==============================] - 1s 39ms/step - loss: 0.0084\n"
     ]
    }
   ],
   "source": [
    "# use the last 90 minutes to predict next value\n",
    "lookback_length = 90\n",
    "\n",
    "# data is stores from every 15 seconds, but we only want every 4th item\n",
    "sample_every_x = 4\n",
    "\n",
    "paths = [\"../../../data/dump.csv\"]\n",
    "model = createLstmModelFromDatasets(paths, lookback_length, sample_every_x)\n",
    "\n",
    "# Uncomment this line to save the model on completion\n",
    "# model.save('../../../models/dump_model_1')"
   ]
  },
  {
   "source": [
    "# Load model"
   ],
   "cell_type": "markdown",
   "metadata": {}
  },
  {
   "cell_type": "code",
   "execution_count": 19,
   "metadata": {},
   "outputs": [],
   "source": [
    "from tensorflow.keras import models\n",
    "from lstm_creator import createLstmModelFromDatasets, scaleData, preprocessData\n",
    "import numpy as np\n",
    "\n",
    "# Uncomment this line to load the model from a file for testing\n",
    "# model = models.load_model('../../../models/dump_model_1')"
   ]
  },
  {
   "source": [
    "# Testing"
   ],
   "cell_type": "markdown",
   "metadata": {}
  },
  {
   "cell_type": "code",
   "execution_count": 20,
   "metadata": {},
   "outputs": [],
   "source": [
    "def evaluate_model(real_data, predicted_data, slope_to_buy_at, inherent_loss=2):\n",
    "    real_data = real_data.reshape(len(real_data))\n",
    "    predicted_data = predicted_data.reshape(len(predicted_data))\n",
    "\n",
    "    real_diff = np.diff(real_data)\n",
    "    predicted_diff = np.diff(predicted_data)\n",
    "\n",
    "    correct_slopes = 0\n",
    "    profit = 0\n",
    "    profits = 0\n",
    "    losses = 0\n",
    "    for i in range(len(real_data)-1):\n",
    "        if np.sign(real_diff[i]) == np.sign(predicted_diff[i]):\n",
    "            correct_slopes = correct_slopes + 1\n",
    "            \n",
    "            # If we have a positive slope calculate profit\n",
    "            if real_diff[i] > slope_to_buy_at:\n",
    "                # we subtract inherent_loss due to the limit market mechanics\n",
    "                revenue = (real_data[i+1] - real_data[i]) - inherent_loss\n",
    "                if revenue > 0:\n",
    "                    # print(f\"Found a profit where current value is {real_data[i+1]} last was {real_data[i]} net {revenue}\")\n",
    "                    profits = profits + 1\n",
    "                    profit = profit + revenue\n",
    "\n",
    "        else:\n",
    "            # We guessed wrong\n",
    "            if predicted_diff[i] > slope_to_buy_at:\n",
    "                # we would have bought\n",
    "                revenue = (real_data[i+1] - real_data[i]) - inherent_loss\n",
    "                # print(f\"Selling at a loss of {revenue}\")\n",
    "                losses = losses + 1\n",
    "                profit = profit + revenue\n",
    "\n",
    "    return (correct_slopes, profit, profits, losses)\n",
    "\n",
    "def eval_model_on_dataset(actual, prediction, slope_to_buy_at, subsampling, inherent_loss):\n",
    "    # Determine the number of cases in which we predicted a correct increase\n",
    "    correct_slopes, profit, profits, losses = evaluate_model(actual, prediction, slope_to_buy_at, inherent_loss)\n",
    "\n",
    "    # print(f\"Found {correct_slopes} out of {len(actual)-1}\")\n",
    "    precent_success = (correct_slopes/(len(actual)-1)) * 100\n",
    "    # print(f\"{precent_success}%\")\n",
    "    # print(\"Profit:\", profit)\n",
    "    return precent_success, profit, profits, losses"
   ]
  },
  {
   "cell_type": "code",
   "execution_count": 21,
   "metadata": {},
   "outputs": [],
   "source": [
    "def testModel(model, length, slope_to_buy_at, path_to_testing_dataset, quiet=False):\n",
    "\n",
    "    datasets, scaler = scaleData([path_to_testing_dataset], 4)\n",
    "\n",
    "    hist, actual = preprocessData(datasets[0], length)\n",
    "\n",
    "    pred = model.predict(hist)\n",
    "\n",
    "    pred_transformed = scaler.inverse_transform(pred)\n",
    "    actual_transformed = scaler.inverse_transform(actual)\n",
    "\n",
    "    if not quiet:\n",
    "        plt.figure(figsize=(12,8))\n",
    "        plt.plot(actual_transformed, color='blue', label='Real')\n",
    "        plt.plot(pred_transformed, color='red', label='Prediction')\n",
    "        plt.title('ETH Price Prediction')\n",
    "        plt.legend()\n",
    "        plt.show()\n",
    "\n",
    "    return eval_model_on_dataset(actual=actual_transformed, prediction=pred_transformed, slope_to_buy_at=slope_to_buy_at, subsampling=1, inherent_loss=1.5)"
   ]
  },
  {
   "cell_type": "code",
   "execution_count": 25,
   "metadata": {
    "tags": []
   },
   "outputs": [
    {
     "output_type": "stream",
     "name": "stdout",
     "text": [
      "Accuracy: 43.49% Profit: $84.96 (Profits/Losses: 63/5)\n",
      "Accuracy: 48.13% Profit: $79.58 (Profits/Losses: 58/0)\n",
      "Accuracy: 48.97% Profit: $98.46 (Profits/Losses: 67/0)\n",
      "-----------------------------------\n",
      "Accuracy: 46.59% Profit: $244.12 (Profits/Losses: 179/5)\n"
     ]
    }
   ],
   "source": [
    "overall = (0, 0, 0, 0)\n",
    "lookback_length = 90\n",
    "slope_to_buy_at = 1.25\n",
    "\n",
    "result1 = testModel(model, lookback_length, slope_to_buy_at, \"../../../data/test_data/test6.csv\", quiet=True)\n",
    "accuracy, profit, profits, losses = result1\n",
    "print(f\"Accuracy: {accuracy:.2f}% Profit: ${profit:.2f} (Profits/Losses: {profits}/{losses})\")\n",
    "\n",
    "result2 = testModel(model, lookback_length, slope_to_buy_at, \"../../../data/test_data/test8.csv\", quiet=True)\n",
    "accuracy, profit, profits, losses = result2\n",
    "print(f\"Accuracy: {accuracy:.2f}% Profit: ${profit:.2f} (Profits/Losses: {profits}/{losses})\")\n",
    "\n",
    "result3 = testModel(model, lookback_length, slope_to_buy_at, \"../../../data/test_data/test10.csv\", quiet=True)\n",
    "accuracy, profit, profits, losses = result3\n",
    "print(f\"Accuracy: {accuracy:.2f}% Profit: ${profit:.2f} (Profits/Losses: {profits}/{losses})\")\n",
    "\n",
    "overall = [sum(x) for x in zip(result1,overall)]\n",
    "overall = [sum(x) for x in zip(result2,overall)]\n",
    "overall = [sum(x) for x in zip(result2,overall)]\n",
    "print(\"-----------------------------------\")\n",
    "print(f\"Accuracy: {overall[0]/3:.2f}% Profit: ${overall[1]:.2f} (Profits/Losses: {overall[2]}/{overall[3]})\")\n",
    "\n"
   ]
  },
  {
   "cell_type": "code",
   "execution_count": null,
   "metadata": {},
   "outputs": [],
   "source": []
  }
 ]
}