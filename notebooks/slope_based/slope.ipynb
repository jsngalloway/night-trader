{
 "metadata": {
  "language_info": {
   "codemirror_mode": {
    "name": "ipython",
    "version": 3
   },
   "file_extension": ".py",
   "mimetype": "text/x-python",
   "name": "python",
   "nbconvert_exporter": "python",
   "pygments_lexer": "ipython3",
   "version": "3.8.5-final"
  },
  "orig_nbformat": 2,
  "kernelspec": {
   "name": "python38564bitlstmconda6b98f4bb35a74cfa9a4dc9d000731948",
   "display_name": "Python 3.8.5 64-bit ('lstm': conda)",
   "language": "python"
  }
 },
 "nbformat": 4,
 "nbformat_minor": 2,
 "cells": [
  {
   "cell_type": "code",
   "execution_count": null,
   "metadata": {},
   "outputs": [],
   "source": [
    "import pandas as pd\n",
    "import numpy as np\n",
    "from sklearn.preprocessing import MinMaxScaler"
   ]
  },
  {
   "cell_type": "code",
   "execution_count": null,
   "metadata": {},
   "outputs": [],
   "source": [
    "df = pd.read_csv(\"../../data/MorningTest4.csv\")[['price']]\n",
    "print(len(df))\n",
    "\n",
    "sc = MinMaxScaler()\n",
    "df_scaled = pd.DataFrame(sc.fit_transform(df))\n",
    "# df_scaled = df"
   ]
  },
  {
   "source": [
    "Calculate slopes"
   ],
   "cell_type": "markdown",
   "metadata": {}
  },
  {
   "cell_type": "code",
   "execution_count": null,
   "metadata": {
    "tags": []
   },
   "outputs": [],
   "source": [
    "ewa = df.ewm(span=20, adjust=False).mean() #20\n",
    "slope = ewa.diff()\n",
    "npslope = np.array(slope)\n",
    "bought = False\n",
    "sumwin = 0\n",
    "transactions = []\n",
    "for i, pt in enumerate(npslope):\n",
    "    if pt > 0.047 and not bought: #0.005\n",
    "        bought = df.iat[i,0]\n",
    "        # print(\"bought\", i, pt)\n",
    "    if pt < -0.01 and bought: #-0.001\n",
    "        # print(\"Selling\",i, pt)\n",
    "        transactions.append(df.iat[i,0] - bought)\n",
    "        sumwin = sumwin + df.iat[i,0] - bought\n",
    "        # print(df.iat[i,0] - bought)\n",
    "        bought = False\n",
    "print(\"Total winning\", sumwin)"
   ]
  },
  {
   "cell_type": "code",
   "execution_count": null,
   "metadata": {},
   "outputs": [],
   "source": [
    "npslope"
   ]
  },
  {
   "cell_type": "code",
   "execution_count": null,
   "metadata": {},
   "outputs": [],
   "source": [
    "import statistics\n",
    "import matplotlib.pyplot as plt\n",
    "\n",
    "print(\"Transactions: \", len(transactions))\n",
    "print(\"Average: \", statistics.mean(transactions))\n",
    "print(\"Median: \", statistics.median(transactions))\n",
    "plt.boxplot(transactions)\n",
    "plt.show()\n",
    "# transactions.sort()\n",
    "# print(transactions)"
   ]
  },
  {
   "source": [
    "## Optimizer"
   ],
   "cell_type": "markdown",
   "metadata": {}
  },
  {
   "cell_type": "code",
   "execution_count": null,
   "metadata": {},
   "outputs": [],
   "source": [
    "def calc_slope(sb, ss, df1):\n",
    "    ewa = df1.ewm(span=20, adjust=False).mean() #20\n",
    "    slope = ewa.diff()\n",
    "    npslope = np.array(slope)\n",
    "    bought = False\n",
    "    sumwin = 0\n",
    "    transactions = []\n",
    "    i = 0\n",
    "    while i < len(npslope):\n",
    "        pt = npslope[i]\n",
    "        if pt > sb and not bought: #0.005\n",
    "            bought = df.iat[i,0]\n",
    "            i = i + 6\n",
    "            # print(\"bought\", i, pt)\n",
    "        if pt < ss and bought: #-0.001\n",
    "            # print(\"Selling\",i, pt)\n",
    "            transactions.append(df.iat[i,0] - bought)\n",
    "            sumwin = sumwin + df.iat[i,0] - bought\n",
    "            # print(df.iat[i,0] - bought)\n",
    "            bought = False\n",
    "        i = i + 1\n",
    "    return (round(sumwin, 3), round(sb, 3), round(ss, 3), len(transactions))"
   ]
  },
  {
   "cell_type": "code",
   "execution_count": null,
   "metadata": {},
   "outputs": [],
   "source": [
    "df = pd.read_csv(\"../../data/MorningTest.csv\")[['price']]\n",
    "results = []\n",
    "for buy_slope in np.arange(0, 0.1, 0.001):\n",
    "    for sell_slope in np.arange(-0.02, 0.005, 0.0025):\n",
    "        results.append(calc_slope(buy_slope, sell_slope, df))\n",
    "\n",
    "sorted(results, key = lambda x: -x[0])"
   ]
  },
  {
   "cell_type": "code",
   "execution_count": null,
   "metadata": {},
   "outputs": [],
   "source": [
    "from datetime import datetime\n",
    "time = datetime.now().strftime(\"%H:%M:%S\")\n",
    "print(f\"{datetime.now().strftime('%H:%M:%S')}\")"
   ]
  },
  {
   "cell_type": "code",
   "execution_count": null,
   "metadata": {},
   "outputs": [],
   "source": []
  }
 ]
}