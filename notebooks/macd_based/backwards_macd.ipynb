{
 "metadata": {
  "language_info": {
   "codemirror_mode": {
    "name": "ipython",
    "version": 3
   },
   "file_extension": ".py",
   "mimetype": "text/x-python",
   "name": "python",
   "nbconvert_exporter": "python",
   "pygments_lexer": "ipython3",
   "version": "3.8.5-final"
  },
  "orig_nbformat": 2,
  "kernelspec": {
   "name": "python3",
   "display_name": "Python 3.8.5 64-bit",
   "metadata": {
    "interpreter": {
     "hash": "d645ef8c40ec2b7ebc4547baabb181caeb027d88fca7ced82d5b83af1979c814"
    }
   }
  }
 },
 "nbformat": 4,
 "nbformat_minor": 2,
 "cells": [
  {
   "cell_type": "code",
   "execution_count": null,
   "metadata": {},
   "outputs": [],
   "source": [
    "#import the libraries\n",
    "import pandas as pd\n",
    "import numpy as np\n",
    "from datetime import datetime\n",
    "import matplotlib.pyplot as plt\n",
    "plt.style.use('fivethirtyeight')"
   ]
  },
  {
   "cell_type": "code",
   "execution_count": null,
   "metadata": {},
   "outputs": [],
   "source": [
    "#Store the data into the df variable\n",
    "df = pd.read_csv('../../data/ETH.csv')"
   ]
  },
  {
   "cell_type": "code",
   "execution_count": null,
   "metadata": {},
   "outputs": [],
   "source": [
    "#Set the date as the index for the data\n",
    "df = df.set_index(pd.DatetimeIndex(df['begins_at'].values))\n",
    "#Show the dataframe\n",
    "# df"
   ]
  },
  {
   "cell_type": "code",
   "execution_count": null,
   "metadata": {},
   "outputs": [],
   "source": [
    "# Visually Show The Stock Price(s)\n",
    "# Create the title\n",
    "title = 'ETH Price'\n",
    "#Get the stocks\n",
    "my_stocks = df\n",
    "#Create and plot the graph\n",
    "plt.figure(figsize=(20,4.5)) #width = 12.2in, height = 4.5\n",
    "plt.plot( my_stocks['low_price'],  label='price')#plt.plot( X-Axis , Y-Axis, line_width, alpha_for_blending,  label)\n",
    "\n",
    "just_ema = df.price.ewm(span=400, adjust=False).mean()\n",
    "plt.plot(df.index, just_ema, label='Exponential moving average', color = 'red')\n",
    "\n",
    "plt.xticks(rotation=45) \n",
    "plt.title(title)\n",
    "plt.xlabel('Date',fontsize=18)\n",
    "plt.ylabel('Price USD ($)',fontsize=18)\n",
    "plt.show()"
   ]
  },
  {
   "cell_type": "code",
   "execution_count": null,
   "metadata": {},
   "outputs": [],
   "source": [
    "\n",
    "def createMacdAndSignalLines(macd_params, macd_multiplier):\n",
    "    ShortEMA = df.price.ewm(span=macd_params[0]*macd_multiplier, adjust=False).mean() #AKA Fast moving average\n",
    "    LongEMA = df.price.ewm(span=macd_params[1]*macd_multiplier, adjust=False).mean() #AKA Slow moving average\n",
    "    Macd = ShortEMA - LongEMA\n",
    "    signal = Macd.ewm(span=macd_params[2]*macd_multiplier, adjust=False).mean()\n",
    "    return (Macd, signal)\n",
    "\n",
    "macd_params = (12, 26, 9)\n",
    "macd_multiplier = 5\n",
    "macd, signal = createMacdAndSignalLines(macd_params, macd_multiplier)\n",
    "\n",
    "plt.figure(figsize=(12.2*2,4.5)) #width = 12.2in, height = 4.5\n",
    "plt.plot(df.index, macd, label='ETH MACD', color = 'red')\n",
    "plt.plot(df.index, signal, label='Signal Line', color='blue')\n",
    "plt.xticks(rotation=45)\n",
    "plt.legend(loc='upper left')\n",
    "plt.show()"
   ]
  },
  {
   "cell_type": "code",
   "execution_count": null,
   "metadata": {},
   "outputs": [],
   "source": [
    "df['MACD'] = macd\n",
    "df['Signal Line'] = signal"
   ]
  },
  {
   "cell_type": "code",
   "execution_count": null,
   "metadata": {},
   "outputs": [],
   "source": [
    "# Function to test the crossover driven profits of the macd and signal lines\n",
    "def mac_daddy_tester(macd, signal, df):\n",
    "    bought = False\n",
    "    sumwin = 0\n",
    "    transactions = []\n",
    "    for i in range(1, len(signal)):\n",
    "        if ( (macd.iat[i] < signal.iat[i]) and (macd.iat[i-1] >= signal.iat[i-1]) and bought == False):\n",
    "            # print(\"Crossed above, time to buy\", i)\n",
    "            bought = df.iat[i,1]\n",
    "        elif ( (macd.iat[i] > signal.iat[i]) and (macd.iat[i-1] <= signal.iat[i-1]) and bought):\n",
    "            # print(\"Crossed below, time to sell\", i)\n",
    "            print(df.iat[i,0], \"Bought at\", bought, \" selling at\", df.iat[i,1], \"for profit:\", df.iat[i,1] - bought - 2)\n",
    "            transactions.append(df.iat[i,1] - bought)\n",
    "            sumwin = sumwin + df.iat[i,1] - bought - 2\n",
    "            bought = False \n",
    "    return(sumwin, transactions)\n",
    "\n",
    "\n",
    "#Create a function to signal when to buy and sell an asset\n",
    "def buy_sell(signal):\n",
    "  sigPriceBuy = []\n",
    "  sigPriceSell = []\n",
    "  flag = -1\n",
    "  for i in range(0,len(signal)):\n",
    "    #if MACD > signal line  then buy else sell\n",
    "      if signal['MACD'][i] < signal['Signal Line'][i]:\n",
    "        if flag != 1:\n",
    "          sigPriceBuy.append(signal['price'][i])\n",
    "          sigPriceSell.append(np.nan)\n",
    "          flag = 1\n",
    "        else:\n",
    "          sigPriceBuy.append(np.nan)\n",
    "          sigPriceSell.append(np.nan)\n",
    "      elif signal['MACD'][i] > signal['Signal Line'][i]: \n",
    "        if flag != 0:\n",
    "          sigPriceSell.append(signal['price'][i])\n",
    "          sigPriceBuy.append(np.nan)\n",
    "          flag = 0\n",
    "        else:\n",
    "          sigPriceBuy.append(np.nan)\n",
    "          sigPriceSell.append(np.nan)\n",
    "      else: #Handling nan values\n",
    "        sigPriceBuy.append(np.nan)\n",
    "        sigPriceSell.append(np.nan)\n",
    "  \n",
    "  return (sigPriceBuy, sigPriceSell)\n",
    "\n",
    "\n",
    "#Create buy and sell columns\n",
    "x = buy_sell(df)\n",
    "df['Buy_Signal_Price'] = x[0]\n",
    "df['Sell_Signal_Price'] = x[1]\n",
    "\n",
    "# Visually Show The Stock buy and sell signals\n",
    "# Create the title \n",
    "title = 'Close Price History Buy / Sell Signals   '\n",
    "#Get the stocks\n",
    "my_stocks = df\n",
    "  \n",
    "#Create and plot the graph\n",
    "plt.figure(figsize=(12.2*2,4.5)) #width = 12.2in, height = 4.5\n",
    "plt.scatter(my_stocks.index, my_stocks['Buy_Signal_Price'], color = 'green', label='Buy Signal', marker = '^', alpha = 1)\n",
    "plt.scatter(my_stocks.index, my_stocks['Sell_Signal_Price'], color = 'red', label='Sell Signal', marker = 'v', alpha = 1)\n",
    "plt.plot( my_stocks['price'],  label='Price', alpha = 0.35)#plt.plot( X-Axis , Y-Axis, line_width, alpha_for_blending,  label)\n",
    "plt.xticks(rotation=45)\n",
    "plt.title(title)\n",
    "plt.xlabel('Date',fontsize=18)\n",
    "plt.ylabel('Price USD ($)',fontsize=18)\n",
    "plt.legend( loc='lower left')\n",
    "plt.show()\n",
    "\n",
    "r = mac_daddy_tester(macd, signal, df)\n",
    "print(\"Profit\", r[0])\n",
    "print(\"trans: \", len(r[1]))\n",
    "plt.boxplot(r[1])\n",
    "plt.show()\n",
    "# print(r[1])"
   ]
  },
  {
   "cell_type": "code",
   "execution_count": null,
   "metadata": {},
   "outputs": [],
   "source": [
    "# results = []\n",
    "# for period_length in np.arange(5, 700, 5):\n",
    "#     macd_params = (12, 26, 9)\n",
    "#     macd_multiplier = period_length #was 111\n",
    "#     macd, signal = createMacdAndSignalLines(macd_params, macd_multiplier)\n",
    "#     r = mac_daddy_tester(macd, signal, df)\n",
    "#     results.append((period_length, r[0], len(r[1])))\n",
    "#     # print(period_length, \"Profit\", r[0], \"transactions: \", len(r[1]))\n",
    "# sorted(results, key = lambda x: -x[1])"
   ]
  },
  {
   "cell_type": "code",
   "execution_count": null,
   "metadata": {},
   "outputs": [],
   "source": []
  }
 ]
}