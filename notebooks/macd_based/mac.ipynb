{
 "metadata": {
  "language_info": {
   "codemirror_mode": {
    "name": "ipython",
    "version": 3
   },
   "file_extension": ".py",
   "mimetype": "text/x-python",
   "name": "python",
   "nbconvert_exporter": "python",
   "pygments_lexer": "ipython3",
   "version": "3.8.5-final"
  },
  "orig_nbformat": 2,
  "kernelspec": {
   "name": "python38564bitlstmconda6b98f4bb35a74cfa9a4dc9d000731948",
   "display_name": "Python 3.8.5 64-bit ('lstm': conda)",
   "language": "python"
  }
 },
 "nbformat": 4,
 "nbformat_minor": 2,
 "cells": [
  {
   "cell_type": "code",
   "execution_count": 1,
   "metadata": {},
   "outputs": [],
   "source": [
    "import pandas as pd\n",
    "# df = pd.read_csv(\"../data/MorningTest3.csv\")[['price']]\n",
    "# print(len(df))"
   ]
  },
  {
   "source": [
    "### Calculate macd and signal lines"
   ],
   "cell_type": "markdown",
   "metadata": {}
  },
  {
   "cell_type": "code",
   "execution_count": null,
   "metadata": {},
   "outputs": [],
   "source": []
  },
  {
   "cell_type": "code",
   "execution_count": null,
   "metadata": {},
   "outputs": [],
   "source": []
  },
  {
   "cell_type": "code",
   "execution_count": 2,
   "metadata": {},
   "outputs": [],
   "source": [
    "# Function to test the crossover driven profits of the macd and signal lines\n",
    "def mac_daddy_tester(macd, signal, df):\n",
    "    bought = False\n",
    "    sumwin = 0\n",
    "    transactions = []\n",
    "    for i in range(1, len(df)):\n",
    "        if ( (macd.iat[i, 0] > signal.iat[i, 0]) and (macd.iat[i-1, 0] <= signal.iat[i-1, 0]) and bought == False):\n",
    "            # print(\"Crossed above, time to buy\", i)\n",
    "            bought = df.iat[i,0]\n",
    "        if ( (macd.iat[i, 0] < signal.iat[i, 0]) and (macd.iat[i-1, 0] >= signal.iat[i-1, 0]) and bought):\n",
    "            # print(\"Crossed below, time to sell\", i)\n",
    "            # print(\"Bought at\\t\", bought, \" selling at\\t\", df.iat[i,0], \"for profit:\\t\", df.iat[i,0] - bought)\n",
    "            transactions.append(df.iat[i,0] - bought)\n",
    "            sumwin = sumwin + df.iat[i,0] - bought - 1\n",
    "            bought = False\n",
    "    return(sumwin, transactions)"
   ]
  },
  {
   "cell_type": "code",
   "execution_count": 3,
   "metadata": {
    "tags": []
   },
   "outputs": [],
   "source": [
    "    # df = pd.read_csv(\"../data/MorningTest2.csv\")[['price']]\n",
    "    # exp1 = df.ewm(span=2, adjust=False).mean() #12\n",
    "    # exp2 = df.ewm(span=88, adjust=False).mean() #15\n",
    "    # macd = exp1-exp2\n",
    "    # signal = macd.ewm(span=2, adjust=False).mean() #2\n",
    "    # profit, transactions = mac_daddy_tester(macd, signal, len(df))\n",
    "    # print(profit, len(transactions))"
   ]
  },
  {
   "cell_type": "code",
   "execution_count": 4,
   "metadata": {},
   "outputs": [],
   "source": [
    "def testeroni(df1, s1, s2, ss):\n",
    "    profit = 0\n",
    "    transactions = 0\n",
    "    exp1 = df1.ewm(span=s1, adjust=False).mean() #12\n",
    "    exp2 = df1.ewm(span=s2, adjust=False).mean() #15\n",
    "    macd = exp1-exp2\n",
    "    signal = macd.ewm(span=ss, adjust=False).mean() #2\n",
    "    profit, transactions = mac_daddy_tester(macd, signal, df1)\n",
    "    print(\"Trial: \", round(profit), len(transactions))"
   ]
  },
  {
   "cell_type": "code",
   "execution_count": 5,
   "metadata": {
    "tags": []
   },
   "outputs": [
    {
     "output_type": "stream",
     "name": "stdout",
     "text": [
      "117 254 88\n"
     ]
    },
    {
     "output_type": "error",
     "ename": "FileNotFoundError",
     "evalue": "[Errno 2] No such file or directory: '../data/MorningTest.csv'",
     "traceback": [
      "\u001b[0;31m---------------------------------------------------------------------------\u001b[0m",
      "\u001b[0;31mFileNotFoundError\u001b[0m                         Traceback (most recent call last)",
      "\u001b[0;32m<ipython-input-5-c67f86d6af54>\u001b[0m in \u001b[0;36m<module>\u001b[0;34m\u001b[0m\n\u001b[1;32m      1\u001b[0m \u001b[0mprint\u001b[0m\u001b[0;34m(\u001b[0m\u001b[0;34m\"117 254 88\"\u001b[0m\u001b[0;34m)\u001b[0m\u001b[0;34m\u001b[0m\u001b[0;34m\u001b[0m\u001b[0m\n\u001b[0;32m----> 2\u001b[0;31m \u001b[0mtesteroni\u001b[0m\u001b[0;34m(\u001b[0m\u001b[0mpd\u001b[0m\u001b[0;34m.\u001b[0m\u001b[0mread_csv\u001b[0m\u001b[0;34m(\u001b[0m\u001b[0;34m\"../data/MorningTest.csv\"\u001b[0m\u001b[0;34m)\u001b[0m\u001b[0;34m[\u001b[0m\u001b[0;34m[\u001b[0m\u001b[0;34m'price'\u001b[0m\u001b[0;34m]\u001b[0m\u001b[0;34m]\u001b[0m\u001b[0;34m,\u001b[0m \u001b[0;36m120\u001b[0m\u001b[0;34m,\u001b[0m \u001b[0;36m260\u001b[0m\u001b[0;34m,\u001b[0m \u001b[0;36m90\u001b[0m\u001b[0;34m)\u001b[0m\u001b[0;34m\u001b[0m\u001b[0;34m\u001b[0m\u001b[0m\n\u001b[0m\u001b[1;32m      3\u001b[0m \u001b[0mtesteroni\u001b[0m\u001b[0;34m(\u001b[0m\u001b[0mpd\u001b[0m\u001b[0;34m.\u001b[0m\u001b[0mread_csv\u001b[0m\u001b[0;34m(\u001b[0m\u001b[0;34m\"../data/MorningTest2.csv\"\u001b[0m\u001b[0;34m)\u001b[0m\u001b[0;34m[\u001b[0m\u001b[0;34m[\u001b[0m\u001b[0;34m'price'\u001b[0m\u001b[0;34m]\u001b[0m\u001b[0;34m]\u001b[0m\u001b[0;34m,\u001b[0m \u001b[0;36m120\u001b[0m\u001b[0;34m,\u001b[0m \u001b[0;36m260\u001b[0m\u001b[0;34m,\u001b[0m \u001b[0;36m90\u001b[0m\u001b[0;34m)\u001b[0m\u001b[0;34m\u001b[0m\u001b[0;34m\u001b[0m\u001b[0m\n\u001b[1;32m      4\u001b[0m \u001b[0mtesteroni\u001b[0m\u001b[0;34m(\u001b[0m\u001b[0mpd\u001b[0m\u001b[0;34m.\u001b[0m\u001b[0mread_csv\u001b[0m\u001b[0;34m(\u001b[0m\u001b[0;34m\"../data/MorningTest3.csv\"\u001b[0m\u001b[0;34m)\u001b[0m\u001b[0;34m[\u001b[0m\u001b[0;34m[\u001b[0m\u001b[0;34m'price'\u001b[0m\u001b[0;34m]\u001b[0m\u001b[0;34m]\u001b[0m\u001b[0;34m,\u001b[0m \u001b[0;36m120\u001b[0m\u001b[0;34m,\u001b[0m \u001b[0;36m260\u001b[0m\u001b[0;34m,\u001b[0m \u001b[0;36m90\u001b[0m\u001b[0;34m)\u001b[0m\u001b[0;34m\u001b[0m\u001b[0;34m\u001b[0m\u001b[0m\n\u001b[1;32m      5\u001b[0m \u001b[0mtesteroni\u001b[0m\u001b[0;34m(\u001b[0m\u001b[0mpd\u001b[0m\u001b[0;34m.\u001b[0m\u001b[0mread_csv\u001b[0m\u001b[0;34m(\u001b[0m\u001b[0;34m\"../data/MorningTest4.csv\"\u001b[0m\u001b[0;34m)\u001b[0m\u001b[0;34m[\u001b[0m\u001b[0;34m[\u001b[0m\u001b[0;34m'price'\u001b[0m\u001b[0;34m]\u001b[0m\u001b[0;34m]\u001b[0m\u001b[0;34m,\u001b[0m \u001b[0;36m120\u001b[0m\u001b[0;34m,\u001b[0m \u001b[0;36m260\u001b[0m\u001b[0;34m,\u001b[0m \u001b[0;36m90\u001b[0m\u001b[0;34m)\u001b[0m\u001b[0;34m\u001b[0m\u001b[0;34m\u001b[0m\u001b[0m\n",
      "\u001b[0;32m~/.local/lib/python3.8/site-packages/pandas/io/parsers.py\u001b[0m in \u001b[0;36mread_csv\u001b[0;34m(filepath_or_buffer, sep, delimiter, header, names, index_col, usecols, squeeze, prefix, mangle_dupe_cols, dtype, engine, converters, true_values, false_values, skipinitialspace, skiprows, skipfooter, nrows, na_values, keep_default_na, na_filter, verbose, skip_blank_lines, parse_dates, infer_datetime_format, keep_date_col, date_parser, dayfirst, cache_dates, iterator, chunksize, compression, thousands, decimal, lineterminator, quotechar, quoting, doublequote, escapechar, comment, encoding, dialect, error_bad_lines, warn_bad_lines, delim_whitespace, low_memory, memory_map, float_precision, storage_options)\u001b[0m\n\u001b[1;32m    603\u001b[0m     \u001b[0mkwds\u001b[0m\u001b[0;34m.\u001b[0m\u001b[0mupdate\u001b[0m\u001b[0;34m(\u001b[0m\u001b[0mkwds_defaults\u001b[0m\u001b[0;34m)\u001b[0m\u001b[0;34m\u001b[0m\u001b[0;34m\u001b[0m\u001b[0m\n\u001b[1;32m    604\u001b[0m \u001b[0;34m\u001b[0m\u001b[0m\n\u001b[0;32m--> 605\u001b[0;31m     \u001b[0;32mreturn\u001b[0m \u001b[0m_read\u001b[0m\u001b[0;34m(\u001b[0m\u001b[0mfilepath_or_buffer\u001b[0m\u001b[0;34m,\u001b[0m \u001b[0mkwds\u001b[0m\u001b[0;34m)\u001b[0m\u001b[0;34m\u001b[0m\u001b[0;34m\u001b[0m\u001b[0m\n\u001b[0m\u001b[1;32m    606\u001b[0m \u001b[0;34m\u001b[0m\u001b[0m\n\u001b[1;32m    607\u001b[0m \u001b[0;34m\u001b[0m\u001b[0m\n",
      "\u001b[0;32m~/.local/lib/python3.8/site-packages/pandas/io/parsers.py\u001b[0m in \u001b[0;36m_read\u001b[0;34m(filepath_or_buffer, kwds)\u001b[0m\n\u001b[1;32m    455\u001b[0m \u001b[0;34m\u001b[0m\u001b[0m\n\u001b[1;32m    456\u001b[0m     \u001b[0;31m# Create the parser.\u001b[0m\u001b[0;34m\u001b[0m\u001b[0;34m\u001b[0m\u001b[0;34m\u001b[0m\u001b[0m\n\u001b[0;32m--> 457\u001b[0;31m     \u001b[0mparser\u001b[0m \u001b[0;34m=\u001b[0m \u001b[0mTextFileReader\u001b[0m\u001b[0;34m(\u001b[0m\u001b[0mfilepath_or_buffer\u001b[0m\u001b[0;34m,\u001b[0m \u001b[0;34m**\u001b[0m\u001b[0mkwds\u001b[0m\u001b[0;34m)\u001b[0m\u001b[0;34m\u001b[0m\u001b[0;34m\u001b[0m\u001b[0m\n\u001b[0m\u001b[1;32m    458\u001b[0m \u001b[0;34m\u001b[0m\u001b[0m\n\u001b[1;32m    459\u001b[0m     \u001b[0;32mif\u001b[0m \u001b[0mchunksize\u001b[0m \u001b[0;32mor\u001b[0m \u001b[0miterator\u001b[0m\u001b[0;34m:\u001b[0m\u001b[0;34m\u001b[0m\u001b[0;34m\u001b[0m\u001b[0m\n",
      "\u001b[0;32m~/.local/lib/python3.8/site-packages/pandas/io/parsers.py\u001b[0m in \u001b[0;36m__init__\u001b[0;34m(self, f, engine, **kwds)\u001b[0m\n\u001b[1;32m    812\u001b[0m             \u001b[0mself\u001b[0m\u001b[0;34m.\u001b[0m\u001b[0moptions\u001b[0m\u001b[0;34m[\u001b[0m\u001b[0;34m\"has_index_names\"\u001b[0m\u001b[0;34m]\u001b[0m \u001b[0;34m=\u001b[0m \u001b[0mkwds\u001b[0m\u001b[0;34m[\u001b[0m\u001b[0;34m\"has_index_names\"\u001b[0m\u001b[0;34m]\u001b[0m\u001b[0;34m\u001b[0m\u001b[0;34m\u001b[0m\u001b[0m\n\u001b[1;32m    813\u001b[0m \u001b[0;34m\u001b[0m\u001b[0m\n\u001b[0;32m--> 814\u001b[0;31m         \u001b[0mself\u001b[0m\u001b[0;34m.\u001b[0m\u001b[0m_engine\u001b[0m \u001b[0;34m=\u001b[0m \u001b[0mself\u001b[0m\u001b[0;34m.\u001b[0m\u001b[0m_make_engine\u001b[0m\u001b[0;34m(\u001b[0m\u001b[0mself\u001b[0m\u001b[0;34m.\u001b[0m\u001b[0mengine\u001b[0m\u001b[0;34m)\u001b[0m\u001b[0;34m\u001b[0m\u001b[0;34m\u001b[0m\u001b[0m\n\u001b[0m\u001b[1;32m    815\u001b[0m \u001b[0;34m\u001b[0m\u001b[0m\n\u001b[1;32m    816\u001b[0m     \u001b[0;32mdef\u001b[0m \u001b[0mclose\u001b[0m\u001b[0;34m(\u001b[0m\u001b[0mself\u001b[0m\u001b[0;34m)\u001b[0m\u001b[0;34m:\u001b[0m\u001b[0;34m\u001b[0m\u001b[0;34m\u001b[0m\u001b[0m\n",
      "\u001b[0;32m~/.local/lib/python3.8/site-packages/pandas/io/parsers.py\u001b[0m in \u001b[0;36m_make_engine\u001b[0;34m(self, engine)\u001b[0m\n\u001b[1;32m   1043\u001b[0m             )\n\u001b[1;32m   1044\u001b[0m         \u001b[0;31m# error: Too many arguments for \"ParserBase\"\u001b[0m\u001b[0;34m\u001b[0m\u001b[0;34m\u001b[0m\u001b[0;34m\u001b[0m\u001b[0m\n\u001b[0;32m-> 1045\u001b[0;31m         \u001b[0;32mreturn\u001b[0m \u001b[0mmapping\u001b[0m\u001b[0;34m[\u001b[0m\u001b[0mengine\u001b[0m\u001b[0;34m]\u001b[0m\u001b[0;34m(\u001b[0m\u001b[0mself\u001b[0m\u001b[0;34m.\u001b[0m\u001b[0mf\u001b[0m\u001b[0;34m,\u001b[0m \u001b[0;34m**\u001b[0m\u001b[0mself\u001b[0m\u001b[0;34m.\u001b[0m\u001b[0moptions\u001b[0m\u001b[0;34m)\u001b[0m  \u001b[0;31m# type: ignore[call-arg]\u001b[0m\u001b[0;34m\u001b[0m\u001b[0;34m\u001b[0m\u001b[0m\n\u001b[0m\u001b[1;32m   1046\u001b[0m \u001b[0;34m\u001b[0m\u001b[0m\n\u001b[1;32m   1047\u001b[0m     \u001b[0;32mdef\u001b[0m \u001b[0m_failover_to_python\u001b[0m\u001b[0;34m(\u001b[0m\u001b[0mself\u001b[0m\u001b[0;34m)\u001b[0m\u001b[0;34m:\u001b[0m\u001b[0;34m\u001b[0m\u001b[0;34m\u001b[0m\u001b[0m\n",
      "\u001b[0;32m~/.local/lib/python3.8/site-packages/pandas/io/parsers.py\u001b[0m in \u001b[0;36m__init__\u001b[0;34m(self, src, **kwds)\u001b[0m\n\u001b[1;32m   1860\u001b[0m \u001b[0;34m\u001b[0m\u001b[0m\n\u001b[1;32m   1861\u001b[0m         \u001b[0;31m# open handles\u001b[0m\u001b[0;34m\u001b[0m\u001b[0;34m\u001b[0m\u001b[0;34m\u001b[0m\u001b[0m\n\u001b[0;32m-> 1862\u001b[0;31m         \u001b[0mself\u001b[0m\u001b[0;34m.\u001b[0m\u001b[0m_open_handles\u001b[0m\u001b[0;34m(\u001b[0m\u001b[0msrc\u001b[0m\u001b[0;34m,\u001b[0m \u001b[0mkwds\u001b[0m\u001b[0;34m)\u001b[0m\u001b[0;34m\u001b[0m\u001b[0;34m\u001b[0m\u001b[0m\n\u001b[0m\u001b[1;32m   1863\u001b[0m         \u001b[0;32massert\u001b[0m \u001b[0mself\u001b[0m\u001b[0;34m.\u001b[0m\u001b[0mhandles\u001b[0m \u001b[0;32mis\u001b[0m \u001b[0;32mnot\u001b[0m \u001b[0;32mNone\u001b[0m\u001b[0;34m\u001b[0m\u001b[0;34m\u001b[0m\u001b[0m\n\u001b[1;32m   1864\u001b[0m         \u001b[0;32mfor\u001b[0m \u001b[0mkey\u001b[0m \u001b[0;32min\u001b[0m \u001b[0;34m(\u001b[0m\u001b[0;34m\"storage_options\"\u001b[0m\u001b[0;34m,\u001b[0m \u001b[0;34m\"encoding\"\u001b[0m\u001b[0;34m,\u001b[0m \u001b[0;34m\"memory_map\"\u001b[0m\u001b[0;34m,\u001b[0m \u001b[0;34m\"compression\"\u001b[0m\u001b[0;34m)\u001b[0m\u001b[0;34m:\u001b[0m\u001b[0;34m\u001b[0m\u001b[0;34m\u001b[0m\u001b[0m\n",
      "\u001b[0;32m~/.local/lib/python3.8/site-packages/pandas/io/parsers.py\u001b[0m in \u001b[0;36m_open_handles\u001b[0;34m(self, src, kwds)\u001b[0m\n\u001b[1;32m   1355\u001b[0m         \u001b[0mLet\u001b[0m \u001b[0mthe\u001b[0m \u001b[0mreaders\u001b[0m \u001b[0mopen\u001b[0m \u001b[0mIOHanldes\u001b[0m \u001b[0mafter\u001b[0m \u001b[0mthey\u001b[0m \u001b[0mare\u001b[0m \u001b[0mdone\u001b[0m \u001b[0;32mwith\u001b[0m \u001b[0mtheir\u001b[0m \u001b[0mpotential\u001b[0m \u001b[0mraises\u001b[0m\u001b[0;34m.\u001b[0m\u001b[0;34m\u001b[0m\u001b[0;34m\u001b[0m\u001b[0m\n\u001b[1;32m   1356\u001b[0m         \"\"\"\n\u001b[0;32m-> 1357\u001b[0;31m         self.handles = get_handle(\n\u001b[0m\u001b[1;32m   1358\u001b[0m             \u001b[0msrc\u001b[0m\u001b[0;34m,\u001b[0m\u001b[0;34m\u001b[0m\u001b[0;34m\u001b[0m\u001b[0m\n\u001b[1;32m   1359\u001b[0m             \u001b[0;34m\"r\"\u001b[0m\u001b[0;34m,\u001b[0m\u001b[0;34m\u001b[0m\u001b[0;34m\u001b[0m\u001b[0m\n",
      "\u001b[0;32m~/.local/lib/python3.8/site-packages/pandas/io/common.py\u001b[0m in \u001b[0;36mget_handle\u001b[0;34m(path_or_buf, mode, encoding, compression, memory_map, is_text, errors, storage_options)\u001b[0m\n\u001b[1;32m    637\u001b[0m         \u001b[0;32mif\u001b[0m \u001b[0mioargs\u001b[0m\u001b[0;34m.\u001b[0m\u001b[0mencoding\u001b[0m \u001b[0;32mand\u001b[0m \u001b[0;34m\"b\"\u001b[0m \u001b[0;32mnot\u001b[0m \u001b[0;32min\u001b[0m \u001b[0mioargs\u001b[0m\u001b[0;34m.\u001b[0m\u001b[0mmode\u001b[0m\u001b[0;34m:\u001b[0m\u001b[0;34m\u001b[0m\u001b[0;34m\u001b[0m\u001b[0m\n\u001b[1;32m    638\u001b[0m             \u001b[0;31m# Encoding\u001b[0m\u001b[0;34m\u001b[0m\u001b[0;34m\u001b[0m\u001b[0;34m\u001b[0m\u001b[0m\n\u001b[0;32m--> 639\u001b[0;31m             handle = open(\n\u001b[0m\u001b[1;32m    640\u001b[0m                 \u001b[0mhandle\u001b[0m\u001b[0;34m,\u001b[0m\u001b[0;34m\u001b[0m\u001b[0;34m\u001b[0m\u001b[0m\n\u001b[1;32m    641\u001b[0m                 \u001b[0mioargs\u001b[0m\u001b[0;34m.\u001b[0m\u001b[0mmode\u001b[0m\u001b[0;34m,\u001b[0m\u001b[0;34m\u001b[0m\u001b[0;34m\u001b[0m\u001b[0m\n",
      "\u001b[0;31mFileNotFoundError\u001b[0m: [Errno 2] No such file or directory: '../data/MorningTest.csv'"
     ]
    }
   ],
   "source": [
    "\n",
    "print(\"117 254 88\")\n",
    "testeroni(pd.read_csv(\"../../data/MorningTest.csv\")[['price']], 120, 260, 90)\n",
    "testeroni(pd.read_csv(\"../../data/MorningTest2.csv\")[['price']], 120, 260, 90)\n",
    "testeroni(pd.read_csv(\"../../data/MorningTest3.csv\")[['price']], 120, 260, 90)\n",
    "testeroni(pd.read_csv(\"../../data/MorningTest4.csv\")[['price']], 120, 260, 90)\n",
    "testeroni(pd.read_csv(\"../../data/MorningTest5.csv\")[['price']], 120, 260, 90)\n",
    "testeroni(pd.read_csv(\"../../data/MorningTest6.csv\")[['price']], 120, 260, 90)\n",
    "print(\"2 24 10\")\n",
    "testeroni(pd.read_csv(\"../../data/MorningTest.csv\")[['price']], 120, 260, 90)\n",
    "testeroni(pd.read_csv(\"../../data/MorningTest2.csv\")[['price']], 120, 260, 90)\n",
    "testeroni(pd.read_csv(\"../../data/MorningTest3.csv\")[['price']], 120, 260, 90)\n",
    "testeroni(pd.read_csv(\"../../data/MorningTest4.csv\")[['price']], 120, 260, 90)\n",
    "testeroni(pd.read_csv(\"../../data/MorningTest5.csv\")[['price']], 120, 260, 90)\n",
    "testeroni(pd.read_csv(\"../../data/MorningTest6.csv\")[['price']], 120, 260, 90)"
   ]
  },
  {
   "cell_type": "code",
   "execution_count": 104,
   "metadata": {},
   "outputs": [],
   "source": [
    "import numpy as np"
   ]
  },
  {
   "cell_type": "code",
   "execution_count": 105,
   "metadata": {},
   "outputs": [],
   "source": [
    "df = pd.read_csv(\"../../data/MorningTest.csv\")[['price']]\n",
    "trials = []\n",
    "for s1 in np.arange(10, 6000, 50):\n",
    "    exp1 = df.ewm(span=s1, adjust=False).mean() #12\n",
    "    exp2 = df.ewm(span=s1*2.1667, adjust=False).mean() #15\n",
    "    macd = exp1-exp2\n",
    "    signal = macd.ewm(span=s1*0.75, adjust=False).mean() #2\n",
    "    profit, transactions = mac_daddy_tester(macd, signal, df)\n",
    "    trials.append((profit, s1, s1*2.1667, s1*0.75))"
   ]
  },
  {
   "cell_type": "code",
   "execution_count": 106,
   "metadata": {},
   "outputs": [
    {
     "output_type": "execute_result",
     "data": {
      "text/plain": [
       "[(-999.7722430000003, 10, 21.667, 7.5),\n",
       " (-137.00317600000108, 760, 1646.692, 570.0),\n",
       " (-133.11844099999985, 860, 1863.362, 645.0),\n",
       " (-130.9701299999997, 810, 1755.027, 607.5),\n",
       " (-127.5938299999998, 2510, 5438.417, 1882.5),\n",
       " (-126.76772500000061, 2560, 5546.752, 1920.0),\n",
       " (-118.80304799999999, 2610, 5655.087, 1957.5),\n",
       " (-113.58006299999988, 2460, 5330.082, 1845.0),\n",
       " (-113.1178980000002, 3010, 6521.767, 2257.5),\n",
       " (-112.10380599999917, 710, 1538.357, 532.5),\n",
       " (-111.39845499999979, 3160, 6846.772, 2370.0),\n",
       " (-110.29666400000019, 1410, 3055.047, 1057.5),\n",
       " (-110.1526829999998, 2310, 5005.077, 1732.5),\n",
       " (-109.70055500000012, 3060, 6630.102, 2295.0),\n",
       " (-109.6828550000007, 2410, 5221.747, 1807.5),\n",
       " (-109.38947600000029, 910, 1971.6970000000001, 682.5),\n",
       " (-109.37042500000007, 2360, 5113.412, 1770.0),\n",
       " (-109.36111899999992, 2660, 5763.4220000000005, 1995.0),\n",
       " (-109.10225700000001, 3110, 6738.437, 2332.5),\n",
       " (-108.85589899999991, 1360, 2946.712, 1020.0),\n",
       " (-107.72495400000003, 2910, 6305.097, 2182.5),\n",
       " (-107.42188800000008, 2960, 6413.432, 2220.0),\n",
       " (-105.69025800000009, 1460, 3163.382, 1095.0),\n",
       " (-105.43440200000009, 3210, 6955.107, 2407.5),\n",
       " (-104.38860100000011, 3310, 7171.777, 2482.5),\n",
       " (-103.06084999999985, 3360, 7280.112, 2520.0),\n",
       " (-102.55140200000005, 3460, 7496.782, 2595.0),\n",
       " (-101.61059800000021, 1260, 2730.042, 945.0),\n",
       " (-101.57187999999951, 1310, 2838.377, 982.5),\n",
       " (-101.44658900000013, 3410, 7388.447, 2557.5),\n",
       " (-101.24564000000032, 1510, 3271.717, 1132.5),\n",
       " (-99.79509800000187, 60, 130.002, 45.0),\n",
       " (-99.74726200000055, 1560, 3380.052, 1170.0),\n",
       " (-99.1385409999998, 3260, 7063.442, 2445.0),\n",
       " (-98.38391699999966, 2210, 4788.407, 1657.5),\n",
       " (-98.01710000000026, 2710, 5871.7570000000005, 2032.5),\n",
       " (-97.70729900000015, 1110, 2405.0370000000003, 832.5),\n",
       " (-97.43798900000024, 1610, 3488.387, 1207.5),\n",
       " (-97.34872800000016, 2810, 6088.427000000001, 2107.5),\n",
       " (-96.9360959999999, 2860, 6196.762000000001, 2145.0),\n",
       " (-96.25003200000037, 1010, 2188.367, 757.5),\n",
       " (-95.78335100000027, 2260, 4896.742, 1695.0),\n",
       " (-94.3995379999999, 2160, 4680.072, 1620.0),\n",
       " (-92.21944100000019, 3760, 8146.792, 2820.0),\n",
       " (-92.18299400000024, 3710, 8038.457, 2782.5),\n",
       " (-91.71602699999994, 3560, 7713.452, 2670.0),\n",
       " (-90.7885809999998, 1810, 3921.7270000000003, 1357.5),\n",
       " (-90.66411300000004, 1660, 3596.722, 1245.0),\n",
       " (-89.73551600000019, 660, 1430.022, 495.0),\n",
       " (-89.14782400000036, 3810, 8255.127, 2857.5),\n",
       " (-89.13687400000026, 1760, 3813.3920000000003, 1320.0),\n",
       " (-89.02638900000011, 410, 888.347, 307.5),\n",
       " (-89.01023500000042, 3510, 7605.117, 2632.5),\n",
       " (-87.55973900000026, 1960, 4246.732, 1470.0),\n",
       " (-86.37446400000044, 1860, 4030.0620000000004, 1395.0),\n",
       " (-86.35434699999996, 1060, 2296.702, 795.0),\n",
       " (-86.21867500000008, 1710, 3705.0570000000002, 1282.5),\n",
       " (-83.52846299999987, 2110, 4571.737, 1582.5),\n",
       " (-83.39736300000004, 3610, 7821.787, 2707.5),\n",
       " (-83.20656400000007, 3660, 7930.122, 2745.0),\n",
       " (-82.67495599999938, 260, 563.342, 195.0),\n",
       " (-82.31126300000028, 960, 2080.032, 720.0),\n",
       " (-81.96389200000067, 610, 1321.6870000000001, 457.5),\n",
       " (-81.71021799999971, 2060, 4463.402, 1545.0),\n",
       " (-80.76404799999932, 460, 996.682, 345.0),\n",
       " (-80.5617070000003, 2760, 5980.092000000001, 2070.0),\n",
       " (-79.52486999999996, 1910, 4138.397, 1432.5),\n",
       " (-79.36807699999986, 1210, 2621.707, 907.5),\n",
       " (-79.09180399999991, 1160, 2513.3720000000003, 870.0),\n",
       " (-77.92655600000012, 310, 671.677, 232.5),\n",
       " (-77.51497300000028, 3860, 8363.462, 2895.0),\n",
       " (-70.9232590000006, 2010, 4355.067, 1507.5),\n",
       " (-70.04921200000058, 510, 1105.017, 382.5),\n",
       " (-68.41969999999992, 4010, 8688.467, 3007.5),\n",
       " (-66.85649600000056, 4060, 8796.802, 3045.0),\n",
       " (-66.68903499999988, 4110, 8905.137, 3082.5),\n",
       " (-66.52817299999947, 360, 780.0120000000001, 270.0),\n",
       " (-64.80334900000025, 3910, 8471.797, 2932.5),\n",
       " (-63.30852300000015, 5110, 11071.837, 3832.5),\n",
       " (-62.44352700000013, 5060, 10963.502, 3795.0),\n",
       " (-60.39291499999899, 560, 1213.352, 420.0),\n",
       " (-58.52260799999999, 4560, 9880.152, 3420.0),\n",
       " (-57.72126999999978, 4610, 9988.487000000001, 3457.5),\n",
       " (-56.52492800000027, 3960, 8580.132, 2970.0),\n",
       " (-56.33082100000047, 4160, 9013.472, 3120.0),\n",
       " (-55.54863999999998, 5160, 11180.172, 3870.0),\n",
       " (-53.78775800000017, 5010, 10855.167, 3757.5),\n",
       " (-53.175336000000016, 4210, 9121.807, 3157.5),\n",
       " (-51.747352999999976, 4460, 9663.482, 3345.0),\n",
       " (-51.02546199999961, 4660, 10096.822, 3495.0),\n",
       " (-50.401085000000194, 4510, 9771.817000000001, 3382.5),\n",
       " (-48.81867299999999, 4710, 10205.157000000001, 3532.5),\n",
       " (-47.24673900000016, 4960, 10746.832, 3720.0),\n",
       " (-47.180721000000176, 4760, 10313.492, 3570.0),\n",
       " (-47.04267899999991, 4360, 9446.812, 3270.0),\n",
       " (-45.50518000000011, 4810, 10421.827000000001, 3607.5),\n",
       " (-44.955164000000195, 4910, 10638.497000000001, 3682.5),\n",
       " (-43.126670000000104, 4260, 9230.142, 3195.0),\n",
       " (-42.45122300000003, 5210, 11288.507, 3907.5),\n",
       " (-41.77514699999983, 4860, 10530.162, 3645.0),\n",
       " (-41.52576500000009, 4410, 9555.147, 3307.5),\n",
       " (-40.772116000000096, 4310, 9338.477, 3232.5),\n",
       " (-38.82503300000167, 160, 346.672, 120.0),\n",
       " (-35.49796800000013, 5260, 11396.842, 3945.0),\n",
       " (-29.316310999999814, 5460, 11830.182, 4095.0),\n",
       " (-26.569345999999996, 5410, 11721.847, 4057.5),\n",
       " (-26.280325000000403, 5360, 11613.512, 4020.0),\n",
       " (-23.22729800000002, 5310, 11505.177, 3982.5),\n",
       " (-22.761431000000357, 5510, 11938.517, 4132.5),\n",
       " (-17.408459999999877, 210, 455.007, 157.5),\n",
       " (-12.65166599999975, 5560, 12046.852, 4170.0),\n",
       " (-0.7177309999999579, 5610, 12155.187, 4207.5),\n",
       " (0.060655999999880805, 5660, 12263.522, 4245.0),\n",
       " (2.574248000000125, 5760, 12480.192000000001, 4320.0),\n",
       " (2.6799200000000383, 5710, 12371.857, 4282.5),\n",
       " (3.3328730000000633, 5910, 12805.197, 4432.5),\n",
       " (3.4218029999999544, 5960, 12913.532000000001, 4470.0),\n",
       " (5.290564000000131, 5860, 12696.862000000001, 4395.0),\n",
       " (6.395567999999912, 5810, 12588.527, 4357.5),\n",
       " (32.8544969999989, 110, 238.33700000000002, 82.5)]"
      ]
     },
     "metadata": {},
     "execution_count": 106
    }
   ],
   "source": [
    "sorted(trials, key = lambda x: x[0])"
   ]
  },
  {
   "cell_type": "code",
   "execution_count": 107,
   "metadata": {},
   "outputs": [],
   "source": [
    "# max_trial = trials[0]\n",
    "\n",
    "\n",
    "# import statistics\n",
    "# import matplotlib.pyplot as plt\n",
    "\n",
    "# print(\"Profit: \", profit)\n",
    "# print(\"Transactions: \", len(transactions))\n",
    "# print(\"Average: \", statistics.mean(transactions))\n",
    "# print(\"Median: \", statistics.median(transactions))\n",
    "# plt.boxplot(transactions)\n",
    "# plt.show()\n",
    "# # transactions.sort()\n",
    "# # print(transactions)"
   ]
  },
  {
   "cell_type": "code",
   "execution_count": null,
   "metadata": {},
   "outputs": [],
   "source": []
  }
 ]
}